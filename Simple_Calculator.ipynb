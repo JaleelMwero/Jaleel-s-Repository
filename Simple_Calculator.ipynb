{
  "cells": [
    {
      "cell_type": "code",
      "source": [
        "# Simple Calculator in Python\n",
        "\n",
        "# Function to display menu\n",
        "def show_menu():\n",
        "    print(\"Welcome to the Python Calculator!\")\n",
        "    print(\"1. Add\")\n",
        "    print(\"2. Subtract\")\n",
        "    print(\"3. Multiply\")\n",
        "    print(\"4. Divide\")\n",
        "    print(\"5. Exit\")\n",
        "\n",
        "# Function to perform calculations\n",
        "def calculate():\n",
        "    while True:\n",
        "        show_menu()\n",
        "        choice = input(\"Choose an option (1-5): \")\n",
        "\n",
        "        if choice == '5':\n",
        "            print(\"Goodbye!\")\n",
        "            break  # Exit the loop and end the program\n",
        "\n",
        "        if choice in ['1', '2', '3', '4']:\n",
        "            try:\n",
        "                num1 = float(input(\"Enter the first number: \"))\n",
        "                num2 = float(input(\"Enter the second number: \"))\n",
        "\n",
        "                if choice == '1':\n",
        "                    print(f\"The result is: {num1 + num2}\")\n",
        "                elif choice == '2':\n",
        "                    print(f\"The result is: {num1 - num2}\")\n",
        "                elif choice == '3':\n",
        "                    print(f\"The result is: {num1 * num2}\")\n",
        "                elif choice == '4':\n",
        "                    if num2 == 0:\n",
        "                        print(\"Error: Cannot divide by zero!\")\n",
        "                    else:\n",
        "                        print(f\"The result is: {num1 / num2}\")\n",
        "            except ValueError:\n",
        "                print(\"Error: Please enter valid numbers.\")\n",
        "        else:\n",
        "            print(\"Invalid option. Please try again.\")\n",
        "\n",
        "# Run the calculator\n",
        "calculate()\n"
      ],
      "metadata": {
        "id": "qvn_c3zvAD95"
      },
      "execution_count": null,
      "outputs": []
    }
  ],
  "metadata": {
    "colab": {
      "name": "Welcome To Colab",
      "provenance": []
    },
    "kernelspec": {
      "display_name": "Python 3",
      "name": "python3"
    }
  },
  "nbformat": 4,
  "nbformat_minor": 0
}